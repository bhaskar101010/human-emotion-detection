{
 "cells": [
  {
   "cell_type": "markdown",
   "metadata": {},
   "source": [
    "# Human Emotion Detection"
   ]
  },
  {
   "cell_type": "markdown",
   "metadata": {},
   "source": [
    "## Installing required packages"
   ]
  },
  {
   "cell_type": "code",
   "execution_count": 1,
   "metadata": {
    "execution": {
     "iopub.execute_input": "2023-05-15T20:40:23.863725Z",
     "iopub.status.busy": "2023-05-15T20:40:23.862341Z",
     "iopub.status.idle": "2023-05-15T20:40:55.422301Z",
     "shell.execute_reply": "2023-05-15T20:40:55.420778Z",
     "shell.execute_reply.started": "2023-05-15T20:40:23.863661Z"
    }
   },
   "outputs": [
    {
     "name": "stdout",
     "output_type": "stream",
     "text": [
      "Requirement already satisfied: torch in /opt/conda/lib/python3.7/site-packages (1.13.0+cpu)\n",
      "Requirement already satisfied: typing-extensions in /opt/conda/lib/python3.7/site-packages (from torch) (4.4.0)\n",
      "\u001b[33mWARNING: Running pip as the 'root' user can result in broken permissions and conflicting behaviour with the system package manager. It is recommended to use a virtual environment instead: https://pip.pypa.io/warnings/venv\u001b[0m\u001b[33m\n",
      "\u001b[0mRequirement already satisfied: opencv-python in /opt/conda/lib/python3.7/site-packages (4.5.4.60)\n",
      "Requirement already satisfied: numpy>=1.14.5 in /opt/conda/lib/python3.7/site-packages (from opencv-python) (1.21.6)\n",
      "\u001b[33mWARNING: Running pip as the 'root' user can result in broken permissions and conflicting behaviour with the system package manager. It is recommended to use a virtual environment instead: https://pip.pypa.io/warnings/venv\u001b[0m\u001b[33m\n",
      "\u001b[0m"
     ]
    }
   ],
   "source": [
    "!pip install torch\n",
    "!pip install opencv-python"
   ]
  },
  {
   "cell_type": "markdown",
   "metadata": {},
   "source": [
    "## Importing required packages and modules "
   ]
  },
  {
   "cell_type": "code",
   "execution_count": 2,
   "metadata": {
    "execution": {
     "iopub.execute_input": "2023-04-30T17:40:27.443725Z",
     "iopub.status.busy": "2023-04-30T17:40:27.442285Z",
     "iopub.status.idle": "2023-04-30T17:40:27.449046Z",
     "shell.execute_reply": "2023-04-30T17:40:27.447597Z",
     "shell.execute_reply.started": "2023-04-30T17:40:27.443679Z"
    }
   },
   "outputs": [],
   "source": [
    "import torch\n",
    "from torch import nn\n",
    "from torch import optim\n",
    "\n",
    "import os\n",
    "import cv2\n",
    "import numpy as np\n",
    "\n",
    "from sklearn.utils.class_weight import compute_class_weight\n",
    "from sklearn.metrics import classification_report"
   ]
  },
  {
   "cell_type": "code",
   "execution_count": 4,
   "metadata": {
    "_cell_guid": "b1076dfc-b9ad-4769-8c92-a6c4dae69d19",
    "_uuid": "8f2839f25d086af736a60e9eeb907d3b93b6e0e5",
    "execution": {
     "iopub.execute_input": "2023-04-30T17:40:38.658471Z",
     "iopub.status.busy": "2023-04-30T17:40:38.658114Z",
     "iopub.status.idle": "2023-04-30T17:44:04.763707Z",
     "shell.execute_reply": "2023-04-30T17:44:04.762791Z",
     "shell.execute_reply.started": "2023-04-30T17:40:38.658437Z"
    }
   },
   "outputs": [],
   "source": [
    "#Creating Testing and Training examples of features and targets from the dataset\n",
    "X_train, X_test, y_train, y_test = ([], [], [], [])\n",
    "\n",
    "#Extracting directory name and filenames\n",
    "for dirname, _, filenames in os.walk('/kaggle/input/emotion-detection-fer/'):\n",
    "    for file in filenames:\n",
    "        if file.endswith('.png'):\n",
    "            #label - test/train\n",
    "            label = dirname.split('/')[-2]\n",
    "            #target - emotion category\n",
    "            category = dirname.split('/')[-1]\n",
    "            #Adding each image to train and test lists\n",
    "            if label == 'test':\n",
    "                X_test.append(cv2.imread(os.path.join(dirname, file), 0))\n",
    "                y_test.append(category)\n",
    "            else:\n",
    "                X_train.append(cv2.imread(os.path.join(dirname, file), 0))\n",
    "                y_train.append(category)"
   ]
  },
  {
   "cell_type": "code",
   "execution_count": 6,
   "metadata": {
    "execution": {
     "iopub.execute_input": "2023-04-30T17:44:04.771990Z",
     "iopub.status.busy": "2023-04-30T17:44:04.771676Z",
     "iopub.status.idle": "2023-04-30T17:44:04.794063Z",
     "shell.execute_reply": "2023-04-30T17:44:04.793204Z",
     "shell.execute_reply.started": "2023-04-30T17:44:04.771959Z"
    }
   },
   "outputs": [],
   "source": [
    "#Unique target classes\n",
    "categories = list(set(y_test))\n",
    "#Assigning each category with a discrete value\n",
    "def labeling(x):\n",
    "    for i in range(len(x)):\n",
    "        x[i] = categories.index(x[i])\n",
    "    return np.array(x)\n",
    "\n",
    "y_train = labeling(y_train)\n",
    "y_test = labeling(y_test)"
   ]
  },
  {
   "cell_type": "code",
   "execution_count": 7,
   "metadata": {
    "execution": {
     "iopub.execute_input": "2023-04-30T17:44:04.795656Z",
     "iopub.status.busy": "2023-04-30T17:44:04.795287Z",
     "iopub.status.idle": "2023-04-30T17:44:11.263644Z",
     "shell.execute_reply": "2023-04-30T17:44:11.262578Z",
     "shell.execute_reply.started": "2023-04-30T17:44:04.795628Z"
    },
    "scrolled": true
   },
   "outputs": [
    {
     "name": "stderr",
     "output_type": "stream",
     "text": [
      "/opt/conda/lib/python3.7/site-packages/ipykernel_launcher.py:1: UserWarning: Creating a tensor from a list of numpy.ndarrays is extremely slow. Please consider converting the list to a single numpy.ndarray with numpy.array() before converting to a tensor. (Triggered internally at ../torch/csrc/utils/tensor_new.cpp:230.)\n",
      "  \"\"\"Entry point for launching an IPython kernel.\n"
     ]
    }
   ],
   "source": [
    "#Formatting the data into tensors\n",
    "X = torch.FloatTensor(X_train).view((28709, 1, 48, 48)) #(no.of examples, no.of channels, image size x, image size y)\n",
    "y = torch.LongTensor(y_train)"
   ]
  },
  {
   "cell_type": "code",
   "execution_count": 8,
   "metadata": {
    "execution": {
     "iopub.execute_input": "2023-04-30T17:44:11.266118Z",
     "iopub.status.busy": "2023-04-30T17:44:11.265329Z",
     "iopub.status.idle": "2023-04-30T17:44:11.274410Z",
     "shell.execute_reply": "2023-04-30T17:44:11.273313Z",
     "shell.execute_reply.started": "2023-04-30T17:44:11.266074Z"
    }
   },
   "outputs": [
    {
     "data": {
      "text/plain": [
       "torch.Size([28709, 1, 48, 48])"
      ]
     },
     "execution_count": 8,
     "metadata": {},
     "output_type": "execute_result"
    }
   ],
   "source": [
    "X.shape"
   ]
  },
  {
   "cell_type": "markdown",
   "metadata": {},
   "source": [
    "## CNN"
   ]
  },
  {
   "cell_type": "code",
   "execution_count": 2,
   "metadata": {
    "execution": {
     "iopub.execute_input": "2023-05-03T08:35:09.894245Z",
     "iopub.status.busy": "2023-05-03T08:35:09.892842Z",
     "iopub.status.idle": "2023-05-03T08:35:09.988611Z",
     "shell.execute_reply": "2023-05-03T08:35:09.987585Z",
     "shell.execute_reply.started": "2023-05-03T08:35:09.894174Z"
    }
   },
   "outputs": [
    {
     "name": "stdout",
     "output_type": "stream",
     "text": [
      "Sequential(\n",
      "  (0): Conv2d(1, 16, kernel_size=(3, 3), stride=(1, 1))\n",
      "  (1): ReLU()\n",
      "  (2): MaxPool2d(kernel_size=2, stride=2, padding=0, dilation=1, ceil_mode=False)\n",
      "  (3): Conv2d(16, 64, kernel_size=(3, 3), stride=(1, 1))\n",
      "  (4): ReLU()\n",
      "  (5): MaxPool2d(kernel_size=2, stride=2, padding=0, dilation=1, ceil_mode=False)\n",
      "  (6): Flatten(start_dim=1, end_dim=-1)\n",
      "  (7): Linear(in_features=6400, out_features=512, bias=True)\n",
      "  (8): ReLU()\n",
      "  (9): Linear(in_features=512, out_features=512, bias=True)\n",
      "  (10): ReLU()\n",
      "  (11): Linear(in_features=512, out_features=512, bias=True)\n",
      "  (12): ReLU()\n",
      "  (13): Linear(in_features=512, out_features=512, bias=True)\n",
      "  (14): ReLU()\n",
      "  (15): Linear(in_features=512, out_features=7, bias=True)\n",
      "  (16): Softmax(dim=1)\n",
      ")\n"
     ]
    }
   ],
   "source": [
    "#defining CNN\n",
    "model = nn.Sequential(nn.Conv2d(1, 16, 3, 1), #(no.of input channels, no.of outputchannels = filters, size of kernel, stride)\n",
    "                     nn.ReLU(),\n",
    "                     nn.MaxPool2d(2,2),#Max-Pooling\n",
    "                      \n",
    "                     nn.Conv2d(16, 64, 3, 1),\n",
    "                     nn.ReLU(),\n",
    "                     nn.MaxPool2d(2,2),\n",
    "                     #Flattening the final pooling output and coonecting it to Feed Forward Neural Network\n",
    "                     nn.Flatten(),\n",
    "                     nn.Linear(6400, 512), #input layer = 6400\n",
    "                      nn.ReLU(),\n",
    "                      nn.Linear(512,512), #hidden layer 1 = 512, hidden layer 2 = 512\n",
    "                      nn.ReLU(), \n",
    "                      nn.Linear(512,512), \n",
    "                      nn.ReLU(),\n",
    "                      nn.Linear(512,512), #hidden layer 3 = 512, hidden layer 4 = 512\n",
    "                      nn.ReLU(),\n",
    "                      nn.Linear(512, 7), #Output layer = 7\n",
    "                      nn.Softmax(dim=1))\n",
    "print(model)"
   ]
  },
  {
   "cell_type": "code",
   "execution_count": 10,
   "metadata": {
    "execution": {
     "iopub.execute_input": "2023-04-30T17:44:11.345841Z",
     "iopub.status.busy": "2023-04-30T17:44:11.345312Z",
     "iopub.status.idle": "2023-04-30T19:00:07.986942Z",
     "shell.execute_reply": "2023-04-30T19:00:07.983940Z",
     "shell.execute_reply.started": "2023-04-30T17:44:11.345810Z"
    }
   },
   "outputs": [
    {
     "name": "stdout",
     "output_type": "stream",
     "text": [
      "Epoch 0 is completed. Training loss is tensor(1.9461, grad_fn=<NllLossBackward0>)\n",
      "Epoch 10 is completed. Training loss is tensor(2.0225, grad_fn=<NllLossBackward0>)\n",
      "Epoch 20 is completed. Training loss is tensor(2.0226, grad_fn=<NllLossBackward0>)\n",
      "Epoch 30 is completed. Training loss is tensor(2.0226, grad_fn=<NllLossBackward0>)\n",
      "Epoch 40 is completed. Training loss is tensor(2.0226, grad_fn=<NllLossBackward0>)\n",
      "Epoch 60 is completed. Training loss is tensor(2.0226, grad_fn=<NllLossBackward0>)\n",
      "Epoch 70 is completed. Training loss is tensor(2.0226, grad_fn=<NllLossBackward0>)\n",
      "Epoch 90 is completed. Training loss is tensor(2.0226, grad_fn=<NllLossBackward0>)\n",
      "Training is completed. Final raining loss is tensor(2.0226, grad_fn=<NllLossBackward0>)\n",
      "tensor([1, 1, 1,  ..., 1, 1, 1])\n",
      "              precision    recall  f1-score   support\n",
      "\n",
      "           0       0.00      0.00      0.00         0\n",
      "           1       1.00      0.13      0.24      7178\n",
      "           2       0.00      0.00      0.00         0\n",
      "           3       0.00      0.00      0.00         0\n",
      "           4       0.00      0.00      0.00         0\n",
      "           5       0.00      0.00      0.00         0\n",
      "           6       0.00      0.00      0.00         0\n",
      "\n",
      "    accuracy                           0.13      7178\n",
      "   macro avg       0.14      0.02      0.03      7178\n",
      "weighted avg       1.00      0.13      0.24      7178\n",
      "\n"
     ]
    },
    {
     "name": "stderr",
     "output_type": "stream",
     "text": [
      "/opt/conda/lib/python3.7/site-packages/sklearn/metrics/_classification.py:1318: UndefinedMetricWarning: Recall and F-score are ill-defined and being set to 0.0 in labels with no true samples. Use `zero_division` parameter to control this behavior.\n",
      "  _warn_prf(average, modifier, msg_start, len(result))\n",
      "/opt/conda/lib/python3.7/site-packages/sklearn/metrics/_classification.py:1318: UndefinedMetricWarning: Recall and F-score are ill-defined and being set to 0.0 in labels with no true samples. Use `zero_division` parameter to control this behavior.\n",
      "  _warn_prf(average, modifier, msg_start, len(result))\n",
      "/opt/conda/lib/python3.7/site-packages/sklearn/metrics/_classification.py:1318: UndefinedMetricWarning: Recall and F-score are ill-defined and being set to 0.0 in labels with no true samples. Use `zero_division` parameter to control this behavior.\n",
      "  _warn_prf(average, modifier, msg_start, len(result))\n"
     ]
    }
   ],
   "source": [
    "#For unbalanced dataset, defining class weights\n",
    "class_weights = compute_class_weight('balanced', classes = np.unique(y_train), y = y_train)\n",
    "\n",
    "#Defining loss function\n",
    "loss = nn.CrossEntropyLoss(weight = torch.FloatTensor(class_weights))\n",
    "\n",
    "#Adam optimizer\n",
    "sgd = optim.Adam(model.parameters(), lr = 0.001)\n",
    "\n",
    "#Training CNN\n",
    "epochs = 100\n",
    "for epoch in range(epochs):\n",
    "    output = model(X)\n",
    "    cost = loss(output, y)\n",
    "    \n",
    "    #Setting gradients to 0\n",
    "    sgd.zero_grad()\n",
    "    #Back Propagation\n",
    "    cost.backward()\n",
    "    sgd.step()\n",
    "    #Printing training loss for 10 epochs each\n",
    "    if epoch % (epochs/10) == 0:\n",
    "        print('Epoch ' + str(epoch) + ' is completed. Training loss is ' + str(cost))\n",
    "    elif epoch == epochs-1:\n",
    "        print('Training is completed. Final raining loss is ' + str(cost))\n",
    "        \n",
    "X_new = torch.FloatTensor(X_test).view((7178, 1, 48, 48))\n",
    "y_new = torch.LongTensor(y_test)\n",
    "\n",
    "#Model testing and evaluation\n",
    "with torch.no_grad():\n",
    "    y_pred = model(X_new)\n",
    "    predictions = y_pred.argmax(dim = 1)\n",
    "print(predictions)\n",
    "\n",
    "#Model performance\n",
    "print(classification_report(predictions, y_new))"
   ]
  }
 ],
 "metadata": {
  "kernelspec": {
   "display_name": "Python 3 (ipykernel)",
   "language": "python",
   "name": "python3"
  },
  "language_info": {
   "codemirror_mode": {
    "name": "ipython",
    "version": 3
   },
   "file_extension": ".py",
   "mimetype": "text/x-python",
   "name": "python",
   "nbconvert_exporter": "python",
   "pygments_lexer": "ipython3",
   "version": "3.9.13"
  }
 },
 "nbformat": 4,
 "nbformat_minor": 4
}

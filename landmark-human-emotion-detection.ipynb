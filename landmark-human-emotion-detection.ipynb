{
 "cells": [
  {
   "cell_type": "markdown",
   "metadata": {},
   "source": [
    "# Human Emotion Detection"
   ]
  },
  {
   "cell_type": "markdown",
   "metadata": {},
   "source": [
    "## Installing required packages"
   ]
  },
  {
   "cell_type": "code",
   "execution_count": 4,
   "metadata": {
    "execution": {
     "iopub.execute_input": "2023-04-29T08:51:11.402510Z",
     "iopub.status.busy": "2023-04-29T08:51:11.401689Z",
     "iopub.status.idle": "2023-04-29T09:03:07.869475Z",
     "shell.execute_reply": "2023-04-29T09:03:07.868120Z",
     "shell.execute_reply.started": "2023-04-29T08:51:11.402462Z"
    },
    "jupyter": {
     "outputs_hidden": true
    }
   },
   "outputs": [
    {
     "name": "stdout",
     "output_type": "stream",
     "text": [
      "Requirement already satisfied: opencv-python in /opt/conda/lib/python3.7/site-packages (4.5.4.60)\n",
      "\n",
      "Requirement already satisfied: numpy>=1.14.5 in /opt/conda/lib/python3.7/site-packages (from opencv-python) (1.21.6)\n",
      "\n",
      "\u001b[33mWARNING: Running pip as the 'root' user can result in broken permissions and conflicting behaviour with the system package manager. It is recommended to use a virtual environment instead: https://pip.pypa.io/warnings/venv\u001b[0m\u001b[33m\n",
      "\n",
      "\u001b[0mCollecting face_recognition\n",
      "\n",
      "  Downloading face_recognition-1.3.0-py2.py3-none-any.whl (15 kB)\n",
      "\n",
      "Collecting face-recognition-models>=0.3.0\n",
      "\n",
      "  Downloading face_recognition_models-0.3.0.tar.gz (100.1 MB)\n",
      "\n",
      "\u001b[2K     \u001b[90m━━━━━━━━━━━━━━━━━━━━━━━━━━━━━━━━━━━━━━\u001b[0m \u001b[32m100.1/100.1 MB\u001b[0m \u001b[31m12.0 MB/s\u001b[0m eta \u001b[36m0:00:00\u001b[0m00:01\u001b[0m00:01\u001b[0m\n",
      "\n",
      "\u001b[?25h  Preparing metadata (setup.py) ... \u001b[?25ldone\n",
      "\n",
      "\u001b[?25hRequirement already satisfied: numpy in /opt/conda/lib/python3.7/site-packages (from face_recognition) (1.21.6)\n",
      "\n",
      "Requirement already satisfied: Click>=6.0 in /opt/conda/lib/python3.7/site-packages (from face_recognition) (8.1.3)\n",
      "\n",
      "Collecting dlib>=19.7\n",
      "\n",
      "  Downloading dlib-19.24.1.tar.gz (3.2 MB)\n",
      "\n",
      "\u001b[2K     \u001b[90m━━━━━━━━━━━━━━━━━━━━━━━━━━━━━━━━━━━━━━━━\u001b[0m \u001b[32m3.2/3.2 MB\u001b[0m \u001b[31m76.9 MB/s\u001b[0m eta \u001b[36m0:00:00\u001b[0m:00:01\u001b[0m\n",
      "\n",
      "\u001b[?25h  Preparing metadata (setup.py) ... \u001b[?25ldone\n",
      "\n",
      "\u001b[?25hRequirement already satisfied: Pillow in /opt/conda/lib/python3.7/site-packages (from face_recognition) (9.4.0)\n",
      "\n",
      "Requirement already satisfied: importlib-metadata in /opt/conda/lib/python3.7/site-packages (from Click>=6.0->face_recognition) (4.11.4)\n",
      "\n",
      "Requirement already satisfied: zipp>=0.5 in /opt/conda/lib/python3.7/site-packages (from importlib-metadata->Click>=6.0->face_recognition) (3.11.0)\n",
      "\n",
      "Requirement already satisfied: typing-extensions>=3.6.4 in /opt/conda/lib/python3.7/site-packages (from importlib-metadata->Click>=6.0->face_recognition) (4.4.0)\n",
      "\n",
      "Building wheels for collected packages: dlib, face-recognition-models\n",
      "\n",
      "  Building wheel for dlib (setup.py) ... \u001b[?25ldone\n",
      "\n",
      "\u001b[?25h  Created wheel for dlib: filename=dlib-19.24.1-cp37-cp37m-linux_x86_64.whl size=3729620 sha256=6044ac5c934d62fce213b050f86497f5d7e44079d5a86ae2753301673e0bb0ef\n",
      "\n",
      "  Stored in directory: /root/.cache/pip/wheels/be/28/ef/be877f85f9760adadab2a51707ff31c835be8631e38866bad1\n",
      "\n",
      "  Building wheel for face-recognition-models (setup.py) ... \u001b[?25ldone\n",
      "\n",
      "\u001b[?25h  Created wheel for face-recognition-models: filename=face_recognition_models-0.3.0-py2.py3-none-any.whl size=100566185 sha256=598415e46e271e051a26885fef33b46345c3993a711ebc162202ea3f68b813b7\n",
      "\n",
      "  Stored in directory: /root/.cache/pip/wheels/65/cf/0a/4f8e7e42906ede15f4cdf00d6a8f451e4785679155ce17368c\n",
      "\n",
      "Successfully built dlib face-recognition-models\n",
      "\n",
      "Installing collected packages: face-recognition-models, dlib, face_recognition\n",
      "\n",
      "Successfully installed dlib-19.24.1 face-recognition-models-0.3.0 face_recognition-1.3.0\n",
      "\n",
      "\u001b[33mWARNING: Running pip as the 'root' user can result in broken permissions and conflicting behaviour with the system package manager. It is recommended to use a virtual environment instead: https://pip.pypa.io/warnings/venv\u001b[0m\u001b[33m\n",
      "\n",
      "\u001b[0m"
     ]
    }
   ],
   "source": [
    "!pip install opencv-python\n",
    "!pip install face_recognition"
   ]
  },
  {
   "cell_type": "code",
   "execution_count": 1,
   "metadata": {
    "execution": {
     "iopub.execute_input": "2023-05-15T19:56:28.238801Z",
     "iopub.status.busy": "2023-05-15T19:56:28.238200Z",
     "iopub.status.idle": "2023-05-15T19:56:40.544740Z",
     "shell.execute_reply": "2023-05-15T19:56:40.543354Z",
     "shell.execute_reply.started": "2023-05-15T19:56:28.238769Z"
    }
   },
   "outputs": [
    {
     "name": "stdout",
     "output_type": "stream",
     "text": [
      "Requirement already satisfied: torch in /opt/conda/lib/python3.10/site-packages (2.0.0+cpu)\n",
      "Requirement already satisfied: sympy in /opt/conda/lib/python3.10/site-packages (from torch) (1.11.1)\n",
      "Requirement already satisfied: jinja2 in /opt/conda/lib/python3.10/site-packages (from torch) (3.1.2)\n",
      "Requirement already satisfied: networkx in /opt/conda/lib/python3.10/site-packages (from torch) (3.1)\n",
      "Requirement already satisfied: typing-extensions in /opt/conda/lib/python3.10/site-packages (from torch) (4.5.0)\n",
      "Requirement already satisfied: filelock in /opt/conda/lib/python3.10/site-packages (from torch) (3.11.0)\n",
      "Requirement already satisfied: MarkupSafe>=2.0 in /opt/conda/lib/python3.10/site-packages (from jinja2->torch) (2.1.2)\n",
      "Requirement already satisfied: mpmath>=0.19 in /opt/conda/lib/python3.10/site-packages (from sympy->torch) (1.3.0)\n",
      "\u001b[33mWARNING: Running pip as the 'root' user can result in broken permissions and conflicting behaviour with the system package manager. It is recommended to use a virtual environment instead: https://pip.pypa.io/warnings/venv\u001b[0m\u001b[33m\n",
      "\u001b[0m"
     ]
    }
   ],
   "source": [
    "!pip install torch"
   ]
  },
  {
   "cell_type": "markdown",
   "metadata": {},
   "source": [
    "## Importing required packages and modules "
   ]
  },
  {
   "cell_type": "code",
   "execution_count": 5,
   "metadata": {
    "_cell_guid": "b1076dfc-b9ad-4769-8c92-a6c4dae69d19",
    "_uuid": "8f2839f25d086af736a60e9eeb907d3b93b6e0e5",
    "execution": {
     "iopub.execute_input": "2023-04-29T09:03:07.872865Z",
     "iopub.status.busy": "2023-04-29T09:03:07.872408Z",
     "iopub.status.idle": "2023-04-29T09:03:11.125576Z",
     "shell.execute_reply": "2023-04-29T09:03:11.124481Z",
     "shell.execute_reply.started": "2023-04-29T09:03:07.872819Z"
    }
   },
   "outputs": [],
   "source": [
    "import numpy as np\n",
    "import cv2\n",
    "import face_recognition\n",
    "import matplotlib.pyplot as plt\n",
    "import os\n",
    "\n",
    "from sklearn.neighbors import KNeighborsClassifier\n",
    "from sklearn.tree import DecisionTreeClassifier\n",
    "from sklearn.ensemble import RandomForestClassifier\n",
    "from sklearn.svm import SVC\n",
    "from sklearn.metrics import classification_report, confusion_matrix\n",
    "from sklearn.utils.class_weight import compute_class_weight\n",
    "from sklearn.preprocessing import MinMaxScaler\n",
    "from sklearn.decomposition import PCA\n",
    "\n",
    "import torch\n",
    "import torch.nn as nn\n",
    "import torch.optim as optim"
   ]
  },
  {
   "cell_type": "markdown",
   "metadata": {},
   "source": [
    "## Facial Landmarks"
   ]
  },
  {
   "cell_type": "code",
   "execution_count": 6,
   "metadata": {
    "execution": {
     "iopub.execute_input": "2023-04-29T09:03:11.128050Z",
     "iopub.status.busy": "2023-04-29T09:03:11.126932Z",
     "iopub.status.idle": "2023-04-29T09:03:11.179306Z",
     "shell.execute_reply": "2023-04-29T09:03:11.178047Z",
     "shell.execute_reply.started": "2023-04-29T09:03:11.128004Z"
    }
   },
   "outputs": [
    {
     "name": "stdout",
     "output_type": "stream",
     "text": [
      "(48, 48, 3)\n"
     ]
    }
   ],
   "source": [
    "#Reading an example image from dataset\n",
    "image = cv2.imread(r'/kaggle/input/emotion-detection-fer/test/sad/im0.png')\n",
    "\n",
    "#Converting to grayscale\n",
    "gray_image = cv2.cvtColor(image, cv2.COLOR_BGR2GRAY)\n",
    "print(image.shape)"
   ]
  },
  {
   "cell_type": "code",
   "execution_count": 7,
   "metadata": {
    "execution": {
     "iopub.execute_input": "2023-04-29T09:03:11.182909Z",
     "iopub.status.busy": "2023-04-29T09:03:11.182478Z",
     "iopub.status.idle": "2023-04-29T09:03:11.443194Z",
     "shell.execute_reply": "2023-04-29T09:03:11.442001Z",
     "shell.execute_reply.started": "2023-04-29T09:03:11.182869Z"
    }
   },
   "outputs": [
    {
     "data": {
      "text/plain": [
       "<matplotlib.image.AxesImage at 0x765e814b8e10>"
      ]
     },
     "execution_count": 7,
     "metadata": {},
     "output_type": "execute_result"
    },
    {
     "data": {
      "image/png": "[encoded data removed]",
      "text/plain": [
       "<Figure size 640x480 with 1 Axes>"
      ]
     },
     "metadata": {},
     "output_type": "display_data"
    }
   ],
   "source": [
    "#Plot the image\n",
    "plt.imshow(gray_image, cmap='gray')"
   ]
  },
  {
   "cell_type": "code",
   "execution_count": 8,
   "metadata": {
    "execution": {
     "iopub.execute_input": "2023-04-29T09:03:11.445200Z",
     "iopub.status.busy": "2023-04-29T09:03:11.444579Z",
     "iopub.status.idle": "2023-04-29T09:03:11.466728Z",
     "shell.execute_reply": "2023-04-29T09:03:11.465508Z",
     "shell.execute_reply.started": "2023-04-29T09:03:11.445157Z"
    },
    "scrolled": true
   },
   "outputs": [
    {
     "name": "stdout",
     "output_type": "stream",
     "text": [
      "{'chin': [(8, 21), (8, 26), (9, 31), (10, 35), (11, 40), (13, 44), (16, 47), (19, 48), (24, 48), (29, 48), (35, 47), (41, 45), (45, 41), (47, 35), (48, 29), (48, 23), (47, 16)], 'left_eyebrow': [(9, 17), (10, 14), (13, 13), (16, 14), (19, 14)], 'right_eyebrow': [(26, 13), (29, 11), (33, 9), (37, 9), (40, 12)], 'nose_bridge': [(22, 18), (22, 22), (21, 25), (21, 28)], 'nose_tip': [(18, 32), (20, 32), (22, 33), (25, 32), (28, 31)], 'left_eye': [(12, 21), (14, 19), (17, 18), (19, 20), (17, 21), (14, 21)], 'right_eye': [(29, 18), (31, 16), (34, 16), (37, 17), (34, 18), (31, 19)], 'top_lip': [(18, 40), (19, 38), (21, 37), (23, 38), (25, 37), (28, 37), (31, 39), (30, 39), (25, 38), (23, 39), (21, 39), (19, 40)], 'bottom_lip': [(31, 39), (29, 40), (26, 41), (24, 42), (22, 42), (20, 41), (18, 40), (19, 40), (21, 40), (23, 40), (26, 39), (30, 39)]}\n"
     ]
    }
   ],
   "source": [
    "#Extracting landmarks\n",
    "landmarks = face_recognition.face_landmarks(img1)[0]\n",
    "print(landmarks)"
   ]
  },
  {
   "cell_type": "markdown",
   "metadata": {},
   "source": [
    "*From above cell we extracted the facial landmarks for taken image. It is returning us 72 landmarks for chin, right eyebrow, left eyebrow, nose bridge, nose tip, right eye, left eye, top lip and bottom lip. Let's project thenm on the image and see*"
   ]
  },
  {
   "cell_type": "code",
   "execution_count": 9,
   "metadata": {
    "execution": {
     "iopub.execute_input": "2023-04-29T09:03:11.469381Z",
     "iopub.status.busy": "2023-04-29T09:03:11.468291Z",
     "iopub.status.idle": "2023-04-29T09:03:11.490297Z",
     "shell.execute_reply": "2023-04-29T09:03:11.489118Z",
     "shell.execute_reply.started": "2023-04-29T09:03:11.469340Z"
    }
   },
   "outputs": [
    {
     "name": "stdout",
     "output_type": "stream",
     "text": [
      "chin [(8, 21), (8, 26), (9, 31), (10, 35), (11, 40), (13, 44), (16, 47), (19, 48), (24, 48), (29, 48), (35, 47), (41, 45), (45, 41), (47, 35), (48, 29), (48, 23), (47, 16)]\n",
      "\n",
      "left_eyebrow [(9, 17), (10, 14), (13, 13), (16, 14), (19, 14)]\n",
      "\n",
      "right_eyebrow [(26, 13), (29, 11), (33, 9), (37, 9), (40, 12)]\n",
      "\n",
      "nose_bridge [(22, 18), (22, 22), (21, 25), (21, 28)]\n",
      "\n",
      "nose_tip [(18, 32), (20, 32), (22, 33), (25, 32), (28, 31)]\n",
      "\n",
      "left_eye [(12, 21), (14, 19), (17, 18), (19, 20), (17, 21), (14, 21)]\n",
      "\n",
      "right_eye [(29, 18), (31, 16), (34, 16), (37, 17), (34, 18), (31, 19)]\n",
      "\n",
      "top_lip [(18, 40), (19, 38), (21, 37), (23, 38), (25, 37), (28, 37), (31, 39), (30, 39), (25, 38), (23, 39), (21, 39), (19, 40)]\n",
      "\n",
      "bottom_lip [(31, 39), (29, 40), (26, 41), (24, 42), (22, 42), (20, 41), (18, 40), (19, 40), (21, 40), (23, 40), (26, 39), (30, 39)]\n"
     ]
    },
    {
     "data": {
      "text/plain": [
       "True"
      ]
     },
     "execution_count": 9,
     "metadata": {},
     "output_type": "execute_result"
    }
   ],
   "source": [
    "#Project the landmarks onto the image\n",
    "for i, v in landmarks.items():\n",
    "    print(i,v)\n",
    "    for j in v:\n",
    "        cv2.circle(image, j, 0, (0,255,255))\n",
    "        \n",
    "#Save the image \n",
    "cv2.imwrite('face.jpg', image)"
   ]
  },
  {
   "cell_type": "code",
   "execution_count": 10,
   "metadata": {
    "execution": {
     "iopub.execute_input": "2023-04-29T09:03:11.492313Z",
     "iopub.status.busy": "2023-04-29T09:03:11.491947Z",
     "iopub.status.idle": "2023-04-29T09:03:11.705720Z",
     "shell.execute_reply": "2023-04-29T09:03:11.704769Z",
     "shell.execute_reply.started": "2023-04-29T09:03:11.492277Z"
    }
   },
   "outputs": [
    {
     "data": {
      "text/plain": [
       "<matplotlib.image.AxesImage at 0x765e80b53ed0>"
      ]
     },
     "execution_count": 10,
     "metadata": {},
     "output_type": "execute_result"
    },
    {
     "data": {
      "image/png": "[encoded data removed]",
      "text/plain": [
       "<Figure size 640x480 with 1 Axes>"
      ]
     },
     "metadata": {},
     "output_type": "display_data"
    }
   ],
   "source": [
    "#Let us read the saved image and plot it\n",
    "output = cv2.imread(r'/kaggle/working/face.jpg')\n",
    "plt.imshow(cv2.cvtColor(output, cv2.COLOR_BGR2GRAY), cmap='gray')"
   ]
  },
  {
   "cell_type": "markdown",
   "metadata": {},
   "source": [
    "## Feature Extraction"
   ]
  },
  {
   "cell_type": "markdown",
   "metadata": {},
   "source": [
    "*Here, in this project, we are approaching the feature extraction problem as follows. Instead of taking flattened out pixel level values of the image, which does not a very good representaion of an image(atleast for this task), we are taking distance from evry landmark to another. By changing facial expressions, the change in distances between the landarks occur. Relying on this principle, the distances were considered features to represent an image.*"
   ]
  },
  {
   "cell_type": "code",
   "execution_count": 11,
   "metadata": {
    "execution": {
     "iopub.execute_input": "2023-04-29T09:03:11.707572Z",
     "iopub.status.busy": "2023-04-29T09:03:11.707101Z",
     "iopub.status.idle": "2023-04-29T09:03:11.715189Z",
     "shell.execute_reply": "2023-04-29T09:03:11.714111Z",
     "shell.execute_reply.started": "2023-04-29T09:03:11.707534Z"
    }
   },
   "outputs": [],
   "source": [
    "#Defining distance measure - Euclidean distance\n",
    "def distance(point1, point2):\n",
    "    x1, y1 = point1\n",
    "    x2, y2 = point2\n",
    "    return ((x1-x2)**2 + (y1-y2)**2)**.5"
   ]
  },
  {
   "cell_type": "code",
   "execution_count": 12,
   "metadata": {
    "execution": {
     "iopub.execute_input": "2023-04-29T09:03:11.717449Z",
     "iopub.status.busy": "2023-04-29T09:03:11.716917Z",
     "iopub.status.idle": "2023-04-29T09:03:11.725737Z",
     "shell.execute_reply": "2023-04-29T09:03:11.724444Z",
     "shell.execute_reply.started": "2023-04-29T09:03:11.717390Z"
    }
   },
   "outputs": [],
   "source": [
    "#Extracting features. \n",
    "def features(image_path):\n",
    "    #Read image from image path and convert to grayscale\n",
    "    img = cv2.imread(image_path)\n",
    "    img1 = cv2.cvtColor(img, cv2.COLOR_BGR2GRAY)\n",
    "    \n",
    "    #Landmark detection\n",
    "    landmarks = face_recognition.face_landmarks(img1)\n",
    "    if len(landmarks) ==0:\n",
    "        return 0\n",
    "    else:\n",
    "        landmarks = landmarks[0]\n",
    "        points = []\n",
    "        \n",
    "        #Adding the landmarks to a list\n",
    "        for i, v in landmarks.items():\n",
    "            points.extend(v)\n",
    "        \n",
    "        distances = []\n",
    "        #extracting distances between landmarks and returning them as features\n",
    "        for i in points:\n",
    "            distances.extend([distance(i, k) for k in points])\n",
    "        return distances"
   ]
  },
  {
   "cell_type": "code",
   "execution_count": 14,
   "metadata": {
    "execution": {
     "iopub.execute_input": "2023-04-29T09:03:11.739192Z",
     "iopub.status.busy": "2023-04-29T09:03:11.737975Z",
     "iopub.status.idle": "2023-04-29T09:10:12.509651Z",
     "shell.execute_reply": "2023-04-29T09:10:12.508407Z",
     "shell.execute_reply.started": "2023-04-29T09:03:11.739149Z"
    }
   },
   "outputs": [],
   "source": [
    "#Creating Testing and Training examples of features and targets from the dataset\n",
    "X_train, X_test, y_train, y_test = ([], [], [], [])\n",
    "\n",
    "#Extracting directory name and filenames\n",
    "for dirname, _, filenames in os.walk('/kaggle/input/emotion-detection-fer/'):\n",
    "    for file in filenames:\n",
    "        if file.endswith('.png'):\n",
    "            #label - test/train\n",
    "            label = dirname.split('/')[-2]\n",
    "            #target emotion category\n",
    "            category = dirname.split('/')[-1]\n",
    "            feat = features(os.path.join(dirname, file))\n",
    "            \n",
    "            #creating a new target \"can not say\" for the images that are not possible to get landmarks from\n",
    "            if label == 'test':\n",
    "                X_test.append([0]*5184 if feat == 0 else feat)\n",
    "                y_test.append('can not say' if feat == 0 else category)\n",
    "            else:\n",
    "                X_train.append([0]*5184 if feat == 0 else feat)\n",
    "                y_train.append('can not say' if feat == 0 else category)"
   ]
  },
  {
   "cell_type": "code",
   "execution_count": 15,
   "metadata": {
    "execution": {
     "iopub.execute_input": "2023-04-29T09:10:12.512381Z",
     "iopub.status.busy": "2023-04-29T09:10:12.511353Z",
     "iopub.status.idle": "2023-04-29T09:10:12.520463Z",
     "shell.execute_reply": "2023-04-29T09:10:12.519276Z",
     "shell.execute_reply.started": "2023-04-29T09:10:12.512335Z"
    }
   },
   "outputs": [
    {
     "data": {
      "text/plain": [
       "7178"
      ]
     },
     "execution_count": 15,
     "metadata": {},
     "output_type": "execute_result"
    }
   ],
   "source": [
    "#No.of testing exaples\n",
    "len(X_test)"
   ]
  },
  {
   "cell_type": "code",
   "execution_count": 16,
   "metadata": {
    "execution": {
     "iopub.execute_input": "2023-04-29T09:10:12.522670Z",
     "iopub.status.busy": "2023-04-29T09:10:12.521914Z",
     "iopub.status.idle": "2023-04-29T09:10:12.534176Z",
     "shell.execute_reply": "2023-04-29T09:10:12.532829Z",
     "shell.execute_reply.started": "2023-04-29T09:10:12.522628Z"
    }
   },
   "outputs": [
    {
     "data": {
      "text/plain": [
       "28709"
      ]
     },
     "execution_count": 16,
     "metadata": {},
     "output_type": "execute_result"
    }
   ],
   "source": [
    "#no.of training examples\n",
    "len(X_train)"
   ]
  },
  {
   "cell_type": "code",
   "execution_count": 17,
   "metadata": {
    "execution": {
     "iopub.execute_input": "2023-04-29T09:10:12.537033Z",
     "iopub.status.busy": "2023-04-29T09:10:12.536446Z",
     "iopub.status.idle": "2023-04-29T09:10:12.544004Z",
     "shell.execute_reply": "2023-04-29T09:10:12.542833Z",
     "shell.execute_reply.started": "2023-04-29T09:10:12.536994Z"
    }
   },
   "outputs": [
    {
     "name": "stdout",
     "output_type": "stream",
     "text": [
      "['neutral', 'disgusted', 'fearful', 'surprised', 'happy', 'sad', 'angry', 'can not say']\n"
     ]
    }
   ],
   "source": [
    "#Unique target classes\n",
    "categories = list(set(y_test))\n",
    "print(categories)"
   ]
  },
  {
   "cell_type": "code",
   "execution_count": 18,
   "metadata": {
    "execution": {
     "iopub.execute_input": "2023-04-29T09:10:12.546523Z",
     "iopub.status.busy": "2023-04-29T09:10:12.545804Z",
     "iopub.status.idle": "2023-04-29T09:10:12.553543Z",
     "shell.execute_reply": "2023-04-29T09:10:12.552225Z",
     "shell.execute_reply.started": "2023-04-29T09:10:12.546484Z"
    }
   },
   "outputs": [],
   "source": [
    "#Labeling each category with a discrete value\n",
    "def labeling(x):\n",
    "    for i in range(len(x)):\n",
    "        x[i] = categories.index(x[i])\n",
    "    return np.array(x)"
   ]
  },
  {
   "cell_type": "code",
   "execution_count": 19,
   "metadata": {
    "execution": {
     "iopub.execute_input": "2023-04-29T09:10:12.555674Z",
     "iopub.status.busy": "2023-04-29T09:10:12.555125Z",
     "iopub.status.idle": "2023-04-29T09:10:28.084447Z",
     "shell.execute_reply": "2023-04-29T09:10:28.083370Z",
     "shell.execute_reply.started": "2023-04-29T09:10:12.555623Z"
    }
   },
   "outputs": [],
   "source": [
    "#Converting our training examples to input format of scikit-learn modules(numpy arrays)\n",
    "X_train = np.array(X_train)\n",
    "X_test = np.array(X_test)\n",
    "y_train = labeling(y_train)\n",
    "y_test = labeling(y_test)"
   ]
  },
  {
   "cell_type": "code",
   "execution_count": 20,
   "metadata": {
    "execution": {
     "iopub.execute_input": "2023-04-29T09:10:28.086605Z",
     "iopub.status.busy": "2023-04-29T09:10:28.086144Z",
     "iopub.status.idle": "2023-04-29T09:10:29.423516Z",
     "shell.execute_reply": "2023-04-29T09:10:29.421676Z",
     "shell.execute_reply.started": "2023-04-29T09:10:28.086558Z"
    }
   },
   "outputs": [],
   "source": [
    "#Saving the data as numpy files\n",
    "np.save('X_train.npy', X_train)\n",
    "np.save('X_test.npy', X_test)\n",
    "np.save('y_train.npy', y_train)\n",
    "np.save('y_test.npy', y_test)"
   ]
  },
  {
   "cell_type": "markdown",
   "metadata": {},
   "source": [
    "## Classification using ML algorithms"
   ]
  },
  {
   "cell_type": "code",
   "execution_count": 17,
   "metadata": {
    "execution": {
     "iopub.execute_input": "2023-04-29T05:28:54.958965Z",
     "iopub.status.busy": "2023-04-29T05:28:54.958645Z",
     "iopub.status.idle": "2023-04-29T05:30:10.852969Z",
     "shell.execute_reply": "2023-04-29T05:30:10.851082Z",
     "shell.execute_reply.started": "2023-04-29T05:28:54.958934Z"
    }
   },
   "outputs": [
    {
     "name": "stdout",
     "output_type": "stream",
     "text": [
      "[[1161   36   32   19    0  117   17    0]\n",
      "\n",
      " [  68  351   42   21    4   98   14    0]\n",
      "\n",
      " [ 100   96  109   62    1  231   46    0]\n",
      "\n",
      " [ 149   42   45  160    4  210   38    0]\n",
      "\n",
      " [  22    4    9   11   10   26    3    0]\n",
      "\n",
      " [  98   33   38   58    1  643   58    0]\n",
      "\n",
      " [ 126   28   58   70    2  306   76    0]\n",
      "\n",
      " [   0    0    0    0    0    0    0 2225]] \n",
      "\n",
      "               precision    recall  f1-score   support\n",
      "\n",
      "\n",
      "\n",
      "           0       0.67      0.84      0.75      1382\n",
      "\n",
      "           1       0.59      0.59      0.59       598\n",
      "\n",
      "           2       0.33      0.17      0.22       645\n",
      "\n",
      "           3       0.40      0.25      0.31       648\n",
      "\n",
      "           4       0.45      0.12      0.19        85\n",
      "\n",
      "           5       0.39      0.69      0.50       929\n",
      "\n",
      "           6       0.30      0.11      0.17       666\n",
      "\n",
      "           7       1.00      1.00      1.00      2225\n",
      "\n",
      "\n",
      "\n",
      "    accuracy                           0.66      7178\n",
      "\n",
      "   macro avg       0.52      0.47      0.47      7178\n",
      "\n",
      "weighted avg       0.64      0.66      0.63      7178\n",
      "\n",
      "\n"
     ]
    }
   ],
   "source": [
    "#Defining and fit k Nearest neighbours with k = 15 (default)\n",
    "knn = KNeighborsClassifier(n_neighbors = 15)\n",
    "knn.fit(X_train, y_train)\n",
    "\n",
    "#Prediction and performance metrics\n",
    "y_pred = knn.predict(X_test)\n",
    "print(confusion_matrix(y_test, y_pred), '\\n', classification_report(y_test, y_pred))"
   ]
  },
  {
   "cell_type": "code",
   "execution_count": 18,
   "metadata": {
    "execution": {
     "iopub.execute_input": "2023-04-29T05:30:10.856687Z",
     "iopub.status.busy": "2023-04-29T05:30:10.856130Z",
     "iopub.status.idle": "2023-04-29T05:32:38.922878Z",
     "shell.execute_reply": "2023-04-29T05:32:38.921377Z",
     "shell.execute_reply.started": "2023-04-29T05:30:10.856629Z"
    }
   },
   "outputs": [
    {
     "name": "stdout",
     "output_type": "stream",
     "text": [
      "[[ 930   60   99   83   12  116   82    0]\n",
      "\n",
      " [  38  388   55   35    5   43   34    0]\n",
      "\n",
      " [  76   77  196   86   16  115   79    0]\n",
      "\n",
      " [  88   47  100  210   11   96   96    0]\n",
      "\n",
      " [   8    3    9    8   32    9   16    0]\n",
      "\n",
      " [  99   51  117  119   10  372  161    0]\n",
      "\n",
      " [  91   39   82  110   11  168  165    0]\n",
      "\n",
      " [   0    0    0    0    0    0    0 2225]] \n",
      "\n",
      "               precision    recall  f1-score   support\n",
      "\n",
      "\n",
      "\n",
      "           0       0.70      0.67      0.69      1382\n",
      "\n",
      "           1       0.58      0.65      0.61       598\n",
      "\n",
      "           2       0.30      0.30      0.30       645\n",
      "\n",
      "           3       0.32      0.32      0.32       648\n",
      "\n",
      "           4       0.33      0.38      0.35        85\n",
      "\n",
      "           5       0.40      0.40      0.40       929\n",
      "\n",
      "           6       0.26      0.25      0.25       666\n",
      "\n",
      "           7       1.00      1.00      1.00      2225\n",
      "\n",
      "\n",
      "\n",
      "    accuracy                           0.63      7178\n",
      "\n",
      "   macro avg       0.49      0.50      0.49      7178\n",
      "\n",
      "weighted avg       0.63      0.63      0.63      7178\n",
      "\n",
      "\n"
     ]
    }
   ],
   "source": [
    "#Defining Decision tree and fit to training data\n",
    "dt = DecisionTreeClassifier()\n",
    "dt.fit(X_train, y_train)\n",
    "\n",
    "#Predictions and performance metrics\n",
    "y_pred = dt.predict(X_test)\n",
    "print(confusion_matrix(y_test, y_pred), '\\n', classification_report(y_test, y_pred))"
   ]
  },
  {
   "cell_type": "markdown",
   "metadata": {},
   "source": [
    "## Classification using Feed Forward Neural Networks - ANN"
   ]
  },
  {
   "cell_type": "code",
   "execution_count": 3,
   "metadata": {
    "execution": {
     "iopub.execute_input": "2023-04-30T11:21:03.757693Z",
     "iopub.status.busy": "2023-04-30T11:21:03.756914Z",
     "iopub.status.idle": "2023-04-30T11:21:03.825497Z",
     "shell.execute_reply": "2023-04-30T11:21:03.823154Z",
     "shell.execute_reply.started": "2023-04-30T11:21:03.757644Z"
    }
   },
   "outputs": [],
   "source": [
    "#Checking if whether GPU is available and assigning available device\n",
    "device = 'cuda' if torch.cuda.is_available() else 'cpu'"
   ]
  },
  {
   "cell_type": "code",
   "execution_count": 4,
   "metadata": {
    "execution": {
     "iopub.execute_input": "2023-04-30T11:21:03.831117Z",
     "iopub.status.busy": "2023-04-30T11:21:03.829528Z",
     "iopub.status.idle": "2023-04-30T11:21:07.817210Z",
     "shell.execute_reply": "2023-04-30T11:21:07.815961Z",
     "shell.execute_reply.started": "2023-04-30T11:21:03.829915Z"
    }
   },
   "outputs": [],
   "source": [
    "#Formatting the data into tensors\n",
    "X_train_tensor = torch.FloatTensor(X_train).to(device)\n",
    "y_train_tensor = torch.LongTensor(y_train).to(device)"
   ]
  },
  {
   "cell_type": "code",
   "execution_count": 11,
   "metadata": {
    "execution": {
     "iopub.execute_input": "2023-04-29T17:38:41.987651Z",
     "iopub.status.busy": "2023-04-29T17:38:41.986920Z",
     "iopub.status.idle": "2023-04-29T17:38:42.024790Z",
     "shell.execute_reply": "2023-04-29T17:38:42.023559Z",
     "shell.execute_reply.started": "2023-04-29T17:38:41.987601Z"
    }
   },
   "outputs": [
    {
     "name": "stdout",
     "output_type": "stream",
     "text": [
      "Sequential(\n",
      "\n",
      "  (0): Linear(in_features=5184, out_features=500, bias=True)\n",
      "\n",
      "  (1): ReLU()\n",
      "\n",
      "  (2): Linear(in_features=500, out_features=100, bias=True)\n",
      "\n",
      "  (3): ReLU()\n",
      "\n",
      "  (4): Linear(in_features=100, out_features=8, bias=True)\n",
      "\n",
      "  (5): Softmax(dim=1)\n",
      "\n",
      ")\n"
     ]
    }
   ],
   "source": [
    "#Defining a feed forward neural network - ANN\n",
    "model = nn.Sequential(nn.Linear(5184, 500), #input layer = 5184\n",
    "                      nn.ReLU(),\n",
    "                      nn.Linear(500,100), #hidden layer 1 = 500, #hidden layer 2 = 100\n",
    "                      nn.ReLU(), \n",
    "                      nn.Linear(100, 8), #output layer = 8(no.of classes)\n",
    "                      nn.Softmax(dim=1)).to(device)\n",
    "print(model)"
   ]
  },
  {
   "cell_type": "code",
   "execution_count": 12,
   "metadata": {
    "execution": {
     "iopub.execute_input": "2023-04-29T17:38:44.770363Z",
     "iopub.status.busy": "2023-04-29T17:38:44.765429Z",
     "iopub.status.idle": "2023-04-29T17:38:44.783255Z",
     "shell.execute_reply": "2023-04-29T17:38:44.781890Z",
     "shell.execute_reply.started": "2023-04-29T17:38:44.770318Z"
    }
   },
   "outputs": [],
   "source": [
    "#For unbalanced dataset, defining class weights\n",
    "class_weights = compute_class_weight('balanced', classes = np.unique(y_train), y = y_train)"
   ]
  },
  {
   "cell_type": "code",
   "execution_count": 13,
   "metadata": {
    "execution": {
     "iopub.execute_input": "2023-04-29T17:38:50.049408Z",
     "iopub.status.busy": "2023-04-29T17:38:50.048907Z",
     "iopub.status.idle": "2023-04-29T17:52:45.133582Z",
     "shell.execute_reply": "2023-04-29T17:52:45.132148Z",
     "shell.execute_reply.started": "2023-04-29T17:38:50.049369Z"
    }
   },
   "outputs": [
    {
     "name": "stdout",
     "output_type": "stream",
     "text": [
      "Epoch 0 is completed. Training loss is tensor(2.1166, device='cuda:0', grad_fn=<NllLossBackward0>)\n",
      "\n",
      "Epoch 1000 is completed. Training loss is tensor(1.9408, device='cuda:0', grad_fn=<NllLossBackward0>)\n",
      "\n",
      "Epoch 2000 is completed. Training loss is tensor(1.9119, device='cuda:0', grad_fn=<NllLossBackward0>)\n",
      "\n",
      "Epoch 3000 is completed. Training loss is tensor(1.8723, device='cuda:0', grad_fn=<NllLossBackward0>)\n",
      "\n",
      "Epoch 4000 is completed. Training loss is tensor(1.8436, device='cuda:0', grad_fn=<NllLossBackward0>)\n",
      "\n",
      "Epoch 5000 is completed. Training loss is tensor(1.8245, device='cuda:0', grad_fn=<NllLossBackward0>)\n",
      "\n",
      "Epoch 6000 is completed. Training loss is tensor(1.7956, device='cuda:0', grad_fn=<NllLossBackward0>)\n",
      "\n",
      "Epoch 7000 is completed. Training loss is tensor(1.7781, device='cuda:0', grad_fn=<NllLossBackward0>)\n",
      "\n",
      "Epoch 8000 is completed. Training loss is tensor(1.7447, device='cuda:0', grad_fn=<NllLossBackward0>)\n",
      "\n",
      "Epoch 9000 is completed. Training loss is tensor(1.7278, device='cuda:0', grad_fn=<NllLossBackward0>)\n",
      "\n",
      "Training is completed. Final raining loss is tensor(1.7366, device='cuda:0', grad_fn=<NllLossBackward0>)\n"
     ]
    }
   ],
   "source": [
    "#Defining loss function\n",
    "loss_fn = nn.CrossEntropyLoss(weight = torch.FloatTensor(class_weights)).to(device)\n",
    "\n",
    "#Optimizer (Stochastic gradient Descent here)\n",
    "sgd = optim.SGD(model.parameters(), lr = 0.01)\n",
    "\n",
    "#Training ANN\n",
    "epochs = 10000\n",
    "for epoch in range(epochs):\n",
    "    output = model(X_train_tensor)\n",
    "    cost = loss_fn(output, y_train_tensor)\n",
    "    #Setting gradients to 0\n",
    "    sgd.zero_grad()\n",
    "    #Back Propagation\n",
    "    cost.backward()\n",
    "    sgd.step()\n",
    "    #Printing training loss for 1000 epochs each\n",
    "    if epoch % (epochs/10) == 0:\n",
    "        print('Epoch ' + str(epoch) + ' is completed. Training loss is ' + str(cost))\n",
    "    elif epoch == epochs-1:\n",
    "        print('Training is completed. Final raining loss is ' + str(cost))"
   ]
  },
  {
   "cell_type": "code",
   "execution_count": 5,
   "metadata": {
    "execution": {
     "iopub.execute_input": "2023-04-30T11:21:07.819822Z",
     "iopub.status.busy": "2023-04-30T11:21:07.819041Z",
     "iopub.status.idle": "2023-04-30T11:21:08.000862Z",
     "shell.execute_reply": "2023-04-30T11:21:07.999630Z",
     "shell.execute_reply.started": "2023-04-30T11:21:07.819773Z"
    }
   },
   "outputs": [],
   "source": [
    "#Formatting testing data into torch tensors\n",
    "X_test_tensor = torch.tensor(X_test, dtype=torch.float32).to(device)\n",
    "y_test_tensor = torch.LongTensor(y_test).to(device)"
   ]
  },
  {
   "cell_type": "code",
   "execution_count": 15,
   "metadata": {
    "execution": {
     "iopub.execute_input": "2023-04-29T17:52:45.303508Z",
     "iopub.status.busy": "2023-04-29T17:52:45.302452Z",
     "iopub.status.idle": "2023-04-29T17:52:45.325550Z",
     "shell.execute_reply": "2023-04-29T17:52:45.324419Z",
     "shell.execute_reply.started": "2023-04-29T17:52:45.303464Z"
    }
   },
   "outputs": [
    {
     "name": "stdout",
     "output_type": "stream",
     "text": [
      "tensor([1, 3, 5,  ..., 4, 4, 3], device='cuda:0')\n"
     ]
    }
   ],
   "source": [
    "#Model testing and evaluation\n",
    "with torch.no_grad():\n",
    "    y_pred = model(X_test_tensor) #predicted logits\n",
    "    predictions = y_pred.argmax(dim = 1) #taking class with maximum probability\n",
    "print(predictions)"
   ]
  },
  {
   "cell_type": "code",
   "execution_count": 17,
   "metadata": {
    "execution": {
     "iopub.execute_input": "2023-04-29T17:52:45.339568Z",
     "iopub.status.busy": "2023-04-29T17:52:45.338917Z",
     "iopub.status.idle": "2023-04-29T17:52:45.350125Z",
     "shell.execute_reply": "2023-04-29T17:52:45.348713Z",
     "shell.execute_reply.started": "2023-04-29T17:52:45.339531Z"
    }
   },
   "outputs": [
    {
     "data": {
      "text/plain": [
       "tensor([0, 5, 6, 5, 3, 0, 0, 3, 0, 0, 5, 7, 7, 7, 0, 7, 5, 1, 3, 3, 0, 7, 7, 6,\n",
       "        6, 5, 0, 1, 0, 7, 7, 0, 7, 3, 0, 0, 1, 7, 1, 3, 3, 1, 0, 7, 0, 7, 6, 0,\n",
       "        6, 1], device='cuda:0')"
      ]
     },
     "execution_count": 17,
     "metadata": {},
     "output_type": "execute_result"
    }
   ],
   "source": [
    "#A visualisation of predictions\n",
    "predictions[3000:3050]"
   ]
  },
  {
   "cell_type": "code",
   "execution_count": 18,
   "metadata": {
    "execution": {
     "iopub.execute_input": "2023-04-29T17:52:45.352928Z",
     "iopub.status.busy": "2023-04-29T17:52:45.352018Z",
     "iopub.status.idle": "2023-04-29T17:52:45.374783Z",
     "shell.execute_reply": "2023-04-29T17:52:45.373880Z",
     "shell.execute_reply.started": "2023-04-29T17:52:45.352890Z"
    }
   },
   "outputs": [
    {
     "name": "stdout",
     "output_type": "stream",
     "text": [
      "              precision    recall  f1-score   support\n",
      "\n",
      "\n",
      "\n",
      "           0       0.39      0.51      0.44       722\n",
      "\n",
      "           1       0.61      0.08      0.13       691\n",
      "\n",
      "           2       0.00      0.00      0.00         0\n",
      "\n",
      "           3       0.79      0.47      0.59       996\n",
      "\n",
      "           4       0.69      0.85      0.76      1119\n",
      "\n",
      "           5       0.26      0.33      0.29       525\n",
      "\n",
      "           6       0.49      0.35      0.41       900\n",
      "\n",
      "           7       1.00      1.00      1.00      2225\n",
      "\n",
      "\n",
      "\n",
      "    accuracy                           0.63      7178\n",
      "\n",
      "   macro avg       0.53      0.45      0.45      7178\n",
      "\n",
      "weighted avg       0.71      0.63      0.64      7178\n",
      "\n",
      "\n"
     ]
    },
    {
     "name": "stderr",
     "output_type": "stream",
     "text": [
      "/opt/conda/lib/python3.7/site-packages/sklearn/metrics/_classification.py:1318: UndefinedMetricWarning: Recall and F-score are ill-defined and being set to 0.0 in labels with no true samples. Use `zero_division` parameter to control this behavior.\n",
      "\n",
      "  _warn_prf(average, modifier, msg_start, len(result))\n",
      "\n",
      "/opt/conda/lib/python3.7/site-packages/sklearn/metrics/_classification.py:1318: UndefinedMetricWarning: Recall and F-score are ill-defined and being set to 0.0 in labels with no true samples. Use `zero_division` parameter to control this behavior.\n",
      "\n",
      "  _warn_prf(average, modifier, msg_start, len(result))\n",
      "\n",
      "/opt/conda/lib/python3.7/site-packages/sklearn/metrics/_classification.py:1318: UndefinedMetricWarning: Recall and F-score are ill-defined and being set to 0.0 in labels with no true samples. Use `zero_division` parameter to control this behavior.\n",
      "\n",
      "  _warn_prf(average, modifier, msg_start, len(result))\n"
     ]
    }
   ],
   "source": [
    "#Model performance\n",
    "print(classification_report(predictions.cpu(), y_test_tensor.cpu()))"
   ]
  },
  {
   "cell_type": "markdown",
   "metadata": {},
   "source": [
    "### Using Deep FFNN"
   ]
  },
  {
   "cell_type": "code",
   "execution_count": 7,
   "metadata": {
    "execution": {
     "iopub.execute_input": "2023-04-30T11:24:00.778021Z",
     "iopub.status.busy": "2023-04-30T11:24:00.776780Z",
     "iopub.status.idle": "2023-04-30T11:24:07.367230Z",
     "shell.execute_reply": "2023-04-30T11:24:07.365876Z",
     "shell.execute_reply.started": "2023-04-30T11:24:00.777973Z"
    }
   },
   "outputs": [
    {
     "name": "stdout",
     "output_type": "stream",
     "text": [
      "Sequential(\n",
      "\n",
      "  (0): Linear(in_features=5184, out_features=512, bias=True)\n",
      "\n",
      "  (1): ReLU()\n",
      "\n",
      "  (2): Linear(in_features=512, out_features=512, bias=True)\n",
      "\n",
      "  (3): ReLU()\n",
      "\n",
      "  (4): Linear(in_features=512, out_features=512, bias=True)\n",
      "\n",
      "  (5): ReLU()\n",
      "\n",
      "  (6): Linear(in_features=512, out_features=512, bias=True)\n",
      "\n",
      "  (7): ReLU()\n",
      "\n",
      "  (8): Linear(in_features=512, out_features=8, bias=True)\n",
      "\n",
      "  (9): Softmax(dim=1)\n",
      "\n",
      ")\n",
      "\n",
      "Epoch 0 is completed. Training loss is tensor(2.0818, device='cuda:0', grad_fn=<NllLossBackward0>)\n",
      "\n",
      "Epoch 10 is completed. Training loss is tensor(2.0483, device='cuda:0', grad_fn=<NllLossBackward0>)\n",
      "\n",
      "Epoch 20 is completed. Training loss is tensor(2.0292, device='cuda:0', grad_fn=<NllLossBackward0>)\n",
      "\n",
      "Epoch 30 is completed. Training loss is tensor(1.9996, device='cuda:0', grad_fn=<NllLossBackward0>)\n",
      "\n",
      "Epoch 40 is completed. Training loss is tensor(1.9691, device='cuda:0', grad_fn=<NllLossBackward0>)\n",
      "\n",
      "Epoch 50 is completed. Training loss is tensor(1.9483, device='cuda:0', grad_fn=<NllLossBackward0>)\n",
      "\n",
      "Epoch 60 is completed. Training loss is tensor(1.9327, device='cuda:0', grad_fn=<NllLossBackward0>)\n",
      "\n",
      "Epoch 70 is completed. Training loss is tensor(1.9189, device='cuda:0', grad_fn=<NllLossBackward0>)\n",
      "\n",
      "Epoch 80 is completed. Training loss is tensor(1.9070, device='cuda:0', grad_fn=<NllLossBackward0>)\n",
      "\n",
      "Epoch 90 is completed. Training loss is tensor(1.9062, device='cuda:0', grad_fn=<NllLossBackward0>)\n",
      "\n",
      "Training is completed. Final raining loss is tensor(1.8763, device='cuda:0', grad_fn=<NllLossBackward0>)\n",
      "\n",
      "              precision    recall  f1-score   support\n",
      "\n",
      "\n",
      "\n",
      "           0       0.39      0.63      0.48       929\n",
      "\n",
      "           1       0.07      0.46      0.12        85\n",
      "\n",
      "           2       0.00      0.00      0.00       645\n",
      "\n",
      "           3       0.58      0.60      0.59       598\n",
      "\n",
      "           4       0.69      0.82      0.75      1382\n",
      "\n",
      "           5       0.28      0.25      0.26       666\n",
      "\n",
      "           6       0.00      0.00      0.00       648\n",
      "\n",
      "           7       1.00      1.00      1.00      2225\n",
      "\n",
      "\n",
      "\n",
      "    accuracy                           0.63      7178\n",
      "\n",
      "   macro avg       0.38      0.47      0.40      7178\n",
      "\n",
      "weighted avg       0.57      0.63      0.59      7178\n",
      "\n",
      "\n"
     ]
    },
    {
     "name": "stderr",
     "output_type": "stream",
     "text": [
      "/opt/conda/lib/python3.7/site-packages/sklearn/metrics/_classification.py:1318: UndefinedMetricWarning: Precision and F-score are ill-defined and being set to 0.0 in labels with no predicted samples. Use `zero_division` parameter to control this behavior.\n",
      "\n",
      "  _warn_prf(average, modifier, msg_start, len(result))\n",
      "\n",
      "/opt/conda/lib/python3.7/site-packages/sklearn/metrics/_classification.py:1318: UndefinedMetricWarning: Precision and F-score are ill-defined and being set to 0.0 in labels with no predicted samples. Use `zero_division` parameter to control this behavior.\n",
      "\n",
      "  _warn_prf(average, modifier, msg_start, len(result))\n",
      "\n",
      "/opt/conda/lib/python3.7/site-packages/sklearn/metrics/_classification.py:1318: UndefinedMetricWarning: Precision and F-score are ill-defined and being set to 0.0 in labels with no predicted samples. Use `zero_division` parameter to control this behavior.\n",
      "\n",
      "  _warn_prf(average, modifier, msg_start, len(result))\n"
     ]
    }
   ],
   "source": [
    "model = nn.Sequential(nn.Linear(len(X_train_tensor[0]), 512), \n",
    "                      nn.ReLU(),\n",
    "                      nn.Linear(512,512), \n",
    "                      nn.ReLU(), \n",
    "                      nn.Linear(512,512), \n",
    "                      nn.ReLU(),\n",
    "                      nn.Linear(512,512), \n",
    "                      nn.ReLU(),\n",
    "                      nn.Linear(512, 8), \n",
    "                      nn.Softmax(dim=1)).to(device)\n",
    "print(model)\n",
    "\n",
    "class_weights = compute_class_weight('balanced', classes = np.unique(y_train), y = y_train)\n",
    "\n",
    "loss = nn.CrossEntropyLoss(weight = torch.FloatTensor(class_weights)).to(device)\n",
    "sgd = optim.Adam(model.parameters(), lr = 0.0001)\n",
    "epochs = 100\n",
    "for epoch in range(epochs):\n",
    "    output = model(X_train_tensor)\n",
    "    cost = loss(output, y_train_tenor)\n",
    "    sgd.zero_grad()\n",
    "    cost.backward()\n",
    "    sgd.step()\n",
    "    if epoch % (epochs/10) == 0:\n",
    "        print('Epoch ' + str(epoch) + ' is completed. Training loss is ' + str(cost))\n",
    "    elif epoch == epochs-1:\n",
    "        print('Training is completed. Final raining loss is ' + str(cost))\n",
    "        \n",
    "with torch.no_grad():\n",
    "    y_pred = model(X_test_tensor)\n",
    "    predictions = y_pred.argmax(dim = 1)\n",
    "print(classification_report(y_test_tensor.cpu(), predictions.cpu()))\n",
    "\n",
    "#Saving the model\n",
    "torch.save(model, 'model_deep.pth')"
   ]
  },
  {
   "cell_type": "markdown",
   "metadata": {},
   "source": [
    "## Dimensionality reduction"
   ]
  },
  {
   "cell_type": "code",
   "execution_count": 2,
   "metadata": {
    "execution": {
     "iopub.execute_input": "2023-04-30T06:39:55.402881Z",
     "iopub.status.busy": "2023-04-30T06:39:55.402328Z",
     "iopub.status.idle": "2023-04-30T06:39:57.618833Z",
     "shell.execute_reply": "2023-04-30T06:39:57.617443Z",
     "shell.execute_reply.started": "2023-04-30T06:39:55.402832Z"
    }
   },
   "outputs": [
    {
     "data": {
      "text/plain": [
       "array([0., 0., 0., ..., 0., 0., 0.])"
      ]
     },
     "execution_count": 2,
     "metadata": {},
     "output_type": "execute_result"
    }
   ],
   "source": [
    "#Before performing dimensionality reduction, scaling and normalization of data\n",
    "scaler = MinMaxScaler()\n",
    "#Fit and transform training data\n",
    "X_train_scaled = scaler.fit_transform(X_train)\n",
    "#Normalizing test data about training data\n",
    "X_test_scaled = scaler.transform(X_test)\n",
    "X_train_scaled[0]"
   ]
  },
  {
   "cell_type": "code",
   "execution_count": 3,
   "metadata": {
    "execution": {
     "iopub.execute_input": "2023-04-30T06:39:57.621056Z",
     "iopub.status.busy": "2023-04-30T06:39:57.620678Z",
     "iopub.status.idle": "2023-04-30T06:43:04.071567Z",
     "shell.execute_reply": "2023-04-30T06:43:04.069430Z",
     "shell.execute_reply.started": "2023-04-30T06:39:57.621020Z"
    }
   },
   "outputs": [],
   "source": [
    "#Dimensionality reduction - Principal component analysis retaining 99% of variance\n",
    "pca = PCA(n_components = 0.99)\n",
    "X_train_pca = pca.fit_transform(X_train_scaled)\n",
    "X_test_pca = pca.transform(X_test_scaled)"
   ]
  },
  {
   "cell_type": "code",
   "execution_count": 6,
   "metadata": {
    "execution": {
     "iopub.execute_input": "2023-04-29T17:17:56.772739Z",
     "iopub.status.busy": "2023-04-29T17:17:56.770241Z",
     "iopub.status.idle": "2023-04-29T17:17:56.784085Z",
     "shell.execute_reply": "2023-04-29T17:17:56.782376Z",
     "shell.execute_reply.started": "2023-04-29T17:17:56.772615Z"
    }
   },
   "outputs": [
    {
     "data": {
      "text/plain": [
       "(28709, 9)"
      ]
     },
     "execution_count": 6,
     "metadata": {},
     "output_type": "execute_result"
    }
   ],
   "source": [
    "#Dimensions of training data after PCA\n",
    "X_train_pca.shape"
   ]
  },
  {
   "cell_type": "markdown",
   "metadata": {},
   "source": [
    "### Classification on reduced data"
   ]
  },
  {
   "cell_type": "markdown",
   "metadata": {},
   "source": [
    "### ML Algorithms"
   ]
  },
  {
   "cell_type": "code",
   "execution_count": 8,
   "metadata": {
    "execution": {
     "iopub.execute_input": "2023-04-29T17:18:35.540321Z",
     "iopub.status.busy": "2023-04-29T17:18:35.538968Z",
     "iopub.status.idle": "2023-04-29T17:18:36.147141Z",
     "shell.execute_reply": "2023-04-29T17:18:36.145902Z",
     "shell.execute_reply.started": "2023-04-29T17:18:35.540265Z"
    }
   },
   "outputs": [
    {
     "name": "stdout",
     "output_type": "stream",
     "text": [
      "              precision    recall  f1-score   support\n",
      "\n",
      "\n",
      "\n",
      "           0       0.39      0.71      0.50       929\n",
      "\n",
      "           1       0.40      0.14      0.21        85\n",
      "\n",
      "           2       0.31      0.17      0.22       645\n",
      "\n",
      "           3       0.65      0.59      0.62       598\n",
      "\n",
      "           4       0.70      0.81      0.75      1382\n",
      "\n",
      "           5       0.30      0.15      0.20       666\n",
      "\n",
      "           6       0.42      0.24      0.30       648\n",
      "\n",
      "           7       1.00      1.00      1.00      2225\n",
      "\n",
      "\n",
      "\n",
      "    accuracy                           0.66      7178\n",
      "\n",
      "   macro avg       0.52      0.48      0.48      7178\n",
      "\n",
      "weighted avg       0.65      0.66      0.64      7178\n",
      "\n",
      "\n"
     ]
    }
   ],
   "source": [
    "#Training kNN with reduced data\n",
    "knn = KNeighborsClassifier(15)\n",
    "knn.fit(X_train_pca, y_train)\n",
    "\n",
    "#Predictions and model performance\n",
    "y_pred = knn.predict(X_test_pca)\n",
    "print(classification_report(y_test, y_pred))"
   ]
  },
  {
   "cell_type": "code",
   "execution_count": 9,
   "metadata": {
    "execution": {
     "iopub.execute_input": "2023-04-29T17:18:36.149545Z",
     "iopub.status.busy": "2023-04-29T17:18:36.149179Z",
     "iopub.status.idle": "2023-04-29T17:18:36.602479Z",
     "shell.execute_reply": "2023-04-29T17:18:36.600898Z",
     "shell.execute_reply.started": "2023-04-29T17:18:36.149512Z"
    }
   },
   "outputs": [
    {
     "name": "stdout",
     "output_type": "stream",
     "text": [
      "              precision    recall  f1-score   support\n",
      "\n",
      "\n",
      "\n",
      "           0       0.38      0.40      0.39       929\n",
      "\n",
      "           1       0.34      0.38      0.36        85\n",
      "\n",
      "           2       0.30      0.28      0.29       645\n",
      "\n",
      "           3       0.58      0.64      0.61       598\n",
      "\n",
      "           4       0.72      0.68      0.70      1382\n",
      "\n",
      "           5       0.24      0.22      0.23       666\n",
      "\n",
      "           6       0.31      0.34      0.33       648\n",
      "\n",
      "           7       1.00      1.00      1.00      2225\n",
      "\n",
      "\n",
      "\n",
      "    accuracy                           0.63      7178\n",
      "\n",
      "   macro avg       0.48      0.49      0.49      7178\n",
      "\n",
      "weighted avg       0.63      0.63      0.63      7178\n",
      "\n",
      "\n"
     ]
    }
   ],
   "source": [
    "#Training Decision tree with reduced data\n",
    "dt = DecisionTreeClassifier()\n",
    "dt.fit(X_train_pca, y_train)\n",
    "\n",
    "#Prediction and performance evaluation\n",
    "y_pred = dt.predict(X_test_pca)\n",
    "print(classification_report(y_test, y_pred))"
   ]
  },
  {
   "cell_type": "code",
   "execution_count": 4,
   "metadata": {
    "execution": {
     "iopub.execute_input": "2023-04-30T06:43:06.028553Z",
     "iopub.status.busy": "2023-04-30T06:43:06.027503Z",
     "iopub.status.idle": "2023-04-30T06:43:34.918539Z",
     "shell.execute_reply": "2023-04-30T06:43:34.917292Z",
     "shell.execute_reply.started": "2023-04-30T06:43:06.028508Z"
    }
   },
   "outputs": [
    {
     "name": "stdout",
     "output_type": "stream",
     "text": [
      "              precision    recall  f1-score   support\n",
      "\n",
      "\n",
      "\n",
      "           0       0.37      0.81      0.51       929\n",
      "\n",
      "           1       0.00      0.00      0.00        85\n",
      "\n",
      "           2       0.35      0.06      0.10       645\n",
      "\n",
      "           3       0.63      0.60      0.62       598\n",
      "\n",
      "           4       0.70      0.85      0.77      1382\n",
      "\n",
      "           5       0.32      0.05      0.09       666\n",
      "\n",
      "           6       0.42      0.32      0.36       648\n",
      "\n",
      "           7       1.00      1.00      1.00      2225\n",
      "\n",
      "\n",
      "\n",
      "    accuracy                           0.67      7178\n",
      "\n",
      "   macro avg       0.47      0.46      0.43      7178\n",
      "\n",
      "weighted avg       0.65      0.67      0.62      7178\n",
      "\n",
      "\n"
     ]
    },
    {
     "name": "stderr",
     "output_type": "stream",
     "text": [
      "/opt/conda/lib/python3.7/site-packages/sklearn/metrics/_classification.py:1318: UndefinedMetricWarning: Precision and F-score are ill-defined and being set to 0.0 in labels with no predicted samples. Use `zero_division` parameter to control this behavior.\n",
      "\n",
      "  _warn_prf(average, modifier, msg_start, len(result))\n",
      "\n",
      "/opt/conda/lib/python3.7/site-packages/sklearn/metrics/_classification.py:1318: UndefinedMetricWarning: Precision and F-score are ill-defined and being set to 0.0 in labels with no predicted samples. Use `zero_division` parameter to control this behavior.\n",
      "\n",
      "  _warn_prf(average, modifier, msg_start, len(result))\n",
      "\n",
      "/opt/conda/lib/python3.7/site-packages/sklearn/metrics/_classification.py:1318: UndefinedMetricWarning: Precision and F-score are ill-defined and being set to 0.0 in labels with no predicted samples. Use `zero_division` parameter to control this behavior.\n",
      "\n",
      "  _warn_prf(average, modifier, msg_start, len(result))\n"
     ]
    }
   ],
   "source": [
    "#Training Support Vector Classifier on reduced data\n",
    "svc = SVC()\n",
    "svc.fit(X_train_pca, y_train)\n",
    "\n",
    "#Predictions and performance evaluation\n",
    "y_pred = svc.predict(X_test_pca)\n",
    "print(classification_report(y_test, y_pred))"
   ]
  },
  {
   "cell_type": "code",
   "execution_count": 11,
   "metadata": {
    "execution": {
     "iopub.execute_input": "2023-04-29T17:19:53.759360Z",
     "iopub.status.busy": "2023-04-29T17:19:53.758915Z",
     "iopub.status.idle": "2023-04-29T17:20:09.368707Z",
     "shell.execute_reply": "2023-04-29T17:20:09.366950Z",
     "shell.execute_reply.started": "2023-04-29T17:19:53.759320Z"
    }
   },
   "outputs": [
    {
     "name": "stdout",
     "output_type": "stream",
     "text": [
      "              precision    recall  f1-score   support\n",
      "\n",
      "\n",
      "\n",
      "           0       0.43      0.67      0.52       929\n",
      "\n",
      "           1       1.00      0.32      0.48        85\n",
      "\n",
      "           2       0.52      0.26      0.34       645\n",
      "\n",
      "           3       0.68      0.73      0.70       598\n",
      "\n",
      "           4       0.73      0.83      0.77      1382\n",
      "\n",
      "           5       0.38      0.21      0.27       666\n",
      "\n",
      "           6       0.47      0.41      0.44       648\n",
      "\n",
      "           7       1.00      1.00      1.00      2225\n",
      "\n",
      "\n",
      "\n",
      "    accuracy                           0.70      7178\n",
      "\n",
      "   macro avg       0.65      0.55      0.57      7178\n",
      "\n",
      "weighted avg       0.70      0.70      0.69      7178\n",
      "\n",
      "\n"
     ]
    }
   ],
   "source": [
    "#Training Random Forest (ensemble method)\n",
    "rf = RandomForestClassifier(criterion = 'entropy')\n",
    "rf.fit(X_train_pca, y_train)\n",
    "\n",
    "#Predictions and performance evaluation\n",
    "y_pred = rf.predict(X_test_pca)\n",
    "print(classification_report(y_test, y_pred))"
   ]
  },
  {
   "cell_type": "markdown",
   "metadata": {},
   "source": [
    "### Using ANN"
   ]
  },
  {
   "cell_type": "code",
   "execution_count": 19,
   "metadata": {
    "execution": {
     "iopub.execute_input": "2023-04-29T18:02:24.338876Z",
     "iopub.status.busy": "2023-04-29T18:02:24.338450Z",
     "iopub.status.idle": "2023-04-29T18:02:38.050828Z",
     "shell.execute_reply": "2023-04-29T18:02:38.048653Z",
     "shell.execute_reply.started": "2023-04-29T18:02:24.338841Z"
    }
   },
   "outputs": [
    {
     "name": "stdout",
     "output_type": "stream",
     "text": [
      "Sequential(\n",
      "\n",
      "  (0): Linear(in_features=9, out_features=20, bias=True)\n",
      "\n",
      "  (1): ReLU()\n",
      "\n",
      "  (2): Linear(in_features=20, out_features=15, bias=True)\n",
      "\n",
      "  (3): ReLU()\n",
      "\n",
      "  (4): Linear(in_features=15, out_features=8, bias=True)\n",
      "\n",
      "  (5): Softmax(dim=1)\n",
      "\n",
      ")\n",
      "\n",
      "Epoch 0 is completed. Training loss is tensor(2.0745, device='cuda:0', grad_fn=<NllLossBackward0>)\n",
      "\n",
      "Epoch 1000 is completed. Training loss is tensor(1.9574, device='cuda:0', grad_fn=<NllLossBackward0>)\n",
      "\n",
      "Epoch 2000 is completed. Training loss is tensor(1.9322, device='cuda:0', grad_fn=<NllLossBackward0>)\n",
      "\n",
      "Epoch 3000 is completed. Training loss is tensor(1.8856, device='cuda:0', grad_fn=<NllLossBackward0>)\n",
      "\n",
      "Epoch 4000 is completed. Training loss is tensor(1.8620, device='cuda:0', grad_fn=<NllLossBackward0>)\n",
      "\n",
      "Epoch 5000 is completed. Training loss is tensor(1.8504, device='cuda:0', grad_fn=<NllLossBackward0>)\n",
      "\n",
      "Epoch 6000 is completed. Training loss is tensor(1.8421, device='cuda:0', grad_fn=<NllLossBackward0>)\n",
      "\n",
      "Epoch 7000 is completed. Training loss is tensor(1.8362, device='cuda:0', grad_fn=<NllLossBackward0>)\n",
      "\n",
      "Epoch 8000 is completed. Training loss is tensor(1.8316, device='cuda:0', grad_fn=<NllLossBackward0>)\n",
      "\n",
      "Epoch 9000 is completed. Training loss is tensor(1.8277, device='cuda:0', grad_fn=<NllLossBackward0>)\n",
      "\n",
      "Training is completed. Final raining loss is tensor(1.8239, device='cuda:0', grad_fn=<NllLossBackward0>)\n",
      "\n",
      "              precision    recall  f1-score   support\n",
      "\n",
      "\n",
      "\n",
      "           0       0.38      0.46      0.42       929\n",
      "\n",
      "           1       0.04      0.64      0.08        85\n",
      "\n",
      "           2       0.00      0.00      0.00       645\n",
      "\n",
      "           3       0.47      0.71      0.57       598\n",
      "\n",
      "           4       0.69      0.78      0.73      1382\n",
      "\n",
      "           5       0.25      0.04      0.06       666\n",
      "\n",
      "           6       0.21      0.01      0.02       648\n",
      "\n",
      "           7       1.00      1.00      1.00      2225\n",
      "\n",
      "\n",
      "\n",
      "    accuracy                           0.59      7178\n",
      "\n",
      "   macro avg       0.38      0.45      0.36      7178\n",
      "\n",
      "weighted avg       0.57      0.59      0.56      7178\n",
      "\n",
      "\n"
     ]
    },
    {
     "name": "stderr",
     "output_type": "stream",
     "text": [
      "/opt/conda/lib/python3.7/site-packages/sklearn/metrics/_classification.py:1318: UndefinedMetricWarning: Precision and F-score are ill-defined and being set to 0.0 in labels with no predicted samples. Use `zero_division` parameter to control this behavior.\n",
      "\n",
      "  _warn_prf(average, modifier, msg_start, len(result))\n",
      "\n",
      "/opt/conda/lib/python3.7/site-packages/sklearn/metrics/_classification.py:1318: UndefinedMetricWarning: Precision and F-score are ill-defined and being set to 0.0 in labels with no predicted samples. Use `zero_division` parameter to control this behavior.\n",
      "\n",
      "  _warn_prf(average, modifier, msg_start, len(result))\n",
      "\n",
      "/opt/conda/lib/python3.7/site-packages/sklearn/metrics/_classification.py:1318: UndefinedMetricWarning: Precision and F-score are ill-defined and being set to 0.0 in labels with no predicted samples. Use `zero_division` parameter to control this behavior.\n",
      "\n",
      "  _warn_prf(average, modifier, msg_start, len(result))\n"
     ]
    }
   ],
   "source": [
    "X_train_pca_tensor = torch.FloatTensor(X_train_pca).to(device)\n",
    "\n",
    "model = nn.Sequential(nn.Linear(len(X_train_pca_tensor[0]), 20), \n",
    "                      nn.ReLU(),\n",
    "                      nn.Linear(20,15), \n",
    "                      nn.ReLU(), \n",
    "                      nn.Linear(15, 8), \n",
    "                      nn.Softmax(dim=1)).to(device)\n",
    "print(model)\n",
    "\n",
    "class_weights = compute_class_weight('balanced', classes = np.unique(y_train), y = y_train)\n",
    "\n",
    "loss = nn.CrossEntropyLoss(weight = torch.FloatTensor(class_weights)).to(device)\n",
    "\n",
    "#Stochastic gradient descent\n",
    "sgd = optim.SGD(model.parameters(), lr = 0.01)\n",
    "epochs = 10000\n",
    "for epoch in range(epochs):\n",
    "    output = model(X_train_pca_tensor)\n",
    "    cost = loss(output, y_train_tensor)\n",
    "    sgd.zero_grad()\n",
    "    cost.backward()\n",
    "    sgd.step()\n",
    "    if epoch % (epochs/10) == 0:\n",
    "        print('Epoch ' + str(epoch) + ' is completed. Training loss is ' + str(cost))\n",
    "    elif epoch == epochs-1:\n",
    "        print('Training is completed. Final raining loss is ' + str(cost))\n",
    "        \n",
    "X_test_pca_tensor = torch.tensor(X_test_pca, dtype=torch.float32).to(device)\n",
    "\n",
    "with torch.no_grad():\n",
    "    y_pred = model(X_test_pca_tensor)\n",
    "    predictions = y_pred.argmax(dim = 1)\n",
    "print(classification_report(y_test_tensor.cpu(), predictions.cpu()))\n",
    "\n",
    "torch.save(model, 'model_pca.pth')"
   ]
  },
  {
   "cell_type": "code",
   "execution_count": 20,
   "metadata": {
    "execution": {
     "iopub.execute_input": "2023-04-29T18:02:38.053711Z",
     "iopub.status.busy": "2023-04-29T18:02:38.052921Z",
     "iopub.status.idle": "2023-04-29T18:02:57.201462Z",
     "shell.execute_reply": "2023-04-29T18:02:57.198461Z",
     "shell.execute_reply.started": "2023-04-29T18:02:38.053668Z"
    }
   },
   "outputs": [
    {
     "name": "stdout",
     "output_type": "stream",
     "text": [
      "Sequential(\n",
      "\n",
      "  (0): Linear(in_features=9, out_features=20, bias=True)\n",
      "\n",
      "  (1): ReLU()\n",
      "\n",
      "  (2): Linear(in_features=20, out_features=15, bias=True)\n",
      "\n",
      "  (3): ReLU()\n",
      "\n",
      "  (4): Linear(in_features=15, out_features=8, bias=True)\n",
      "\n",
      "  (5): Softmax(dim=1)\n",
      "\n",
      ")\n",
      "\n",
      "Epoch 0 is completed. Training loss is tensor(2.1004, device='cuda:0', grad_fn=<NllLossBackward0>)\n",
      "\n",
      "Epoch 1000 is completed. Training loss is tensor(1.7256, device='cuda:0', grad_fn=<NllLossBackward0>)\n",
      "\n",
      "Epoch 2000 is completed. Training loss is tensor(1.7184, device='cuda:0', grad_fn=<NllLossBackward0>)\n",
      "\n",
      "Epoch 3000 is completed. Training loss is tensor(1.7162, device='cuda:0', grad_fn=<NllLossBackward0>)\n",
      "\n",
      "Epoch 4000 is completed. Training loss is tensor(1.7153, device='cuda:0', grad_fn=<NllLossBackward0>)\n",
      "\n",
      "Epoch 5000 is completed. Training loss is tensor(1.7144, device='cuda:0', grad_fn=<NllLossBackward0>)\n",
      "\n",
      "Epoch 6000 is completed. Training loss is tensor(1.7138, device='cuda:0', grad_fn=<NllLossBackward0>)\n",
      "\n",
      "Epoch 7000 is completed. Training loss is tensor(1.7135, device='cuda:0', grad_fn=<NllLossBackward0>)\n",
      "\n",
      "Epoch 8000 is completed. Training loss is tensor(1.7133, device='cuda:0', grad_fn=<NllLossBackward0>)\n",
      "\n",
      "Epoch 9000 is completed. Training loss is tensor(1.7131, device='cuda:0', grad_fn=<NllLossBackward0>)\n",
      "\n",
      "Training is completed. Final raining loss is tensor(1.7130, device='cuda:0', grad_fn=<NllLossBackward0>)\n",
      "\n",
      "              precision    recall  f1-score   support\n",
      "\n",
      "\n",
      "\n",
      "           0       0.44      0.55      0.49       929\n",
      "\n",
      "           1       0.12      0.56      0.20        85\n",
      "\n",
      "           2       0.00      0.00      0.00       645\n",
      "\n",
      "           3       0.53      0.71      0.61       598\n",
      "\n",
      "           4       0.77      0.76      0.76      1382\n",
      "\n",
      "           5       0.29      0.28      0.28       666\n",
      "\n",
      "           6       0.41      0.36      0.38       648\n",
      "\n",
      "           7       1.00      1.00      1.00      2225\n",
      "\n",
      "\n",
      "\n",
      "    accuracy                           0.65      7178\n",
      "\n",
      "   macro avg       0.44      0.53      0.47      7178\n",
      "\n",
      "weighted avg       0.62      0.65      0.63      7178\n",
      "\n",
      "\n"
     ]
    },
    {
     "name": "stderr",
     "output_type": "stream",
     "text": [
      "/opt/conda/lib/python3.7/site-packages/sklearn/metrics/_classification.py:1318: UndefinedMetricWarning: Precision and F-score are ill-defined and being set to 0.0 in labels with no predicted samples. Use `zero_division` parameter to control this behavior.\n",
      "\n",
      "  _warn_prf(average, modifier, msg_start, len(result))\n",
      "\n",
      "/opt/conda/lib/python3.7/site-packages/sklearn/metrics/_classification.py:1318: UndefinedMetricWarning: Precision and F-score are ill-defined and being set to 0.0 in labels with no predicted samples. Use `zero_division` parameter to control this behavior.\n",
      "\n",
      "  _warn_prf(average, modifier, msg_start, len(result))\n",
      "\n",
      "/opt/conda/lib/python3.7/site-packages/sklearn/metrics/_classification.py:1318: UndefinedMetricWarning: Precision and F-score are ill-defined and being set to 0.0 in labels with no predicted samples. Use `zero_division` parameter to control this behavior.\n",
      "\n",
      "  _warn_prf(average, modifier, msg_start, len(result))\n"
     ]
    }
   ],
   "source": [
    "model = nn.Sequential(nn.Linear(len(X_train_pca_tensor[0]), 20), \n",
    "                      nn.ReLU(),\n",
    "                      nn.Linear(20,15), \n",
    "                      nn.ReLU(), \n",
    "                      nn.Linear(15, 8), \n",
    "                      nn.Softmax(dim=1)).to(device)\n",
    "print(model)\n",
    "\n",
    "class_weights = compute_class_weight('balanced', classes = np.unique(y_train), y = y_train)\n",
    "\n",
    "loss = nn.CrossEntropyLoss(weight = torch.FloatTensor(class_weights)).to(device)\n",
    "\n",
    "#Adam Optimizer\n",
    "sgd = optim.Adam(model.parameters(), lr = 0.01)\n",
    "epochs = 10000\n",
    "for epoch in range(epochs):\n",
    "    output = model(X_train_pca_tensor)\n",
    "    cost = loss(output, y_train_tensor)\n",
    "    sgd.zero_grad()\n",
    "    cost.backward()\n",
    "    sgd.step()\n",
    "    if epoch % (epochs/10) == 0:\n",
    "        print('Epoch ' + str(epoch) + ' is completed. Training loss is ' + str(cost))\n",
    "    elif epoch == epochs-1:\n",
    "        print('Training is completed. Final raining loss is ' + str(cost))\n",
    "        \n",
    "X_test_pca_tensor = torch.tensor(X_test_pca, dtype=torch.float32).to(device)\n",
    "\n",
    "with torch.no_grad():\n",
    "    y_pred = model(X_test_pca_tensor)\n",
    "    predictions = y_pred.argmax(dim = 1)\n",
    "print(classification_report(y_test_tensor.cpu(), predictions.cpu()))\n",
    "\n",
    "torch.save(model, 'model_pca_adam.pth')"
   ]
  }
 ],
 "metadata": {
  "kernelspec": {
   "display_name": "Python 3 (ipykernel)",
   "language": "python",
   "name": "python3"
  },
  "language_info": {
   "codemirror_mode": {
    "name": "ipython",
    "version": 3
   },
   "file_extension": ".py",
   "mimetype": "text/x-python",
   "name": "python",
   "nbconvert_exporter": "python",
   "pygments_lexer": "ipython3",
   "version": "3.9.13"
  }
 },
 "nbformat": 4,
 "nbformat_minor": 4
}
